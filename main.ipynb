{
 "cells": [
  {
   "cell_type": "markdown",
   "id": "restricted-firmware",
   "metadata": {},
   "source": [
    "# Table of Contents\n",
    "    0. Preparing Data\n",
    "    1. Cleanup\n",
    "    2. Labels\n",
    "    3. Analysis\n",
    "    4. Model"
   ]
  },
  {
   "cell_type": "code",
   "execution_count": 140,
   "id": "fiscal-jurisdiction",
   "metadata": {},
   "outputs": [],
   "source": [
    "#import necessary libraries\n",
    "import findspark\n",
    "findspark.init()\n",
    "import math\n",
    "import pandas as pd\n",
    "import pyspark.sql\n",
    "import pyspark.sql.functions as F\n",
    "sc = SparkSession \\\n",
    "    .builder \\\n",
    "    .master(\"spark://master:7077\") \\\n",
    "    .appName(\"EQ Work Sample Problems \") \\\n",
    "    .getOrCreate()"
   ]
  },
  {
   "cell_type": "markdown",
   "id": "parallel-livestock",
   "metadata": {},
   "source": [
    "# 0. Preparing Data"
   ]
  },
  {
   "cell_type": "code",
   "execution_count": 135,
   "id": "average-swiss",
   "metadata": {},
   "outputs": [],
   "source": [
    "df = pd.read_csv(\"Data/DataSample.csv\" )"
   ]
  },
  {
   "cell_type": "code",
   "execution_count": 117,
   "id": "impossible-tours",
   "metadata": {},
   "outputs": [
    {
     "data": {
      "text/html": [
       "<div>\n",
       "<style scoped>\n",
       "    .dataframe tbody tr th:only-of-type {\n",
       "        vertical-align: middle;\n",
       "    }\n",
       "\n",
       "    .dataframe tbody tr th {\n",
       "        vertical-align: top;\n",
       "    }\n",
       "\n",
       "    .dataframe thead th {\n",
       "        text-align: right;\n",
       "    }\n",
       "</style>\n",
       "<table border=\"1\" class=\"dataframe\">\n",
       "  <thead>\n",
       "    <tr style=\"text-align: right;\">\n",
       "      <th></th>\n",
       "      <th>_ID</th>\n",
       "      <th>TimeSt</th>\n",
       "      <th>Country</th>\n",
       "      <th>Province</th>\n",
       "      <th>City</th>\n",
       "      <th>Latitude</th>\n",
       "      <th>Longitude</th>\n",
       "    </tr>\n",
       "  </thead>\n",
       "  <tbody>\n",
       "    <tr>\n",
       "      <th>0</th>\n",
       "      <td>4516516</td>\n",
       "      <td>2017-06-21 00:00:00.143</td>\n",
       "      <td>CA</td>\n",
       "      <td>ON</td>\n",
       "      <td>Waterloo</td>\n",
       "      <td>43.49347</td>\n",
       "      <td>-80.49123</td>\n",
       "    </tr>\n",
       "    <tr>\n",
       "      <th>1</th>\n",
       "      <td>4516547</td>\n",
       "      <td>2017-06-21 18:00:00.193</td>\n",
       "      <td>CA</td>\n",
       "      <td>ON</td>\n",
       "      <td>London</td>\n",
       "      <td>42.93990</td>\n",
       "      <td>-81.27090</td>\n",
       "    </tr>\n",
       "    <tr>\n",
       "      <th>2</th>\n",
       "      <td>4516550</td>\n",
       "      <td>2017-06-21 15:00:00.287</td>\n",
       "      <td>CA</td>\n",
       "      <td>ON</td>\n",
       "      <td>Guelph</td>\n",
       "      <td>43.57760</td>\n",
       "      <td>-80.22010</td>\n",
       "    </tr>\n",
       "  </tbody>\n",
       "</table>\n",
       "</div>"
      ],
      "text/plain": [
       "       _ID                   TimeSt Country Province      City  Latitude  \\\n",
       "0  4516516  2017-06-21 00:00:00.143      CA       ON  Waterloo  43.49347   \n",
       "1  4516547  2017-06-21 18:00:00.193      CA       ON    London  42.93990   \n",
       "2  4516550  2017-06-21 15:00:00.287      CA       ON    Guelph  43.57760   \n",
       "\n",
       "   Longitude  \n",
       "0  -80.49123  \n",
       "1  -81.27090  \n",
       "2  -80.22010  "
      ]
     },
     "execution_count": 117,
     "metadata": {},
     "output_type": "execute_result"
    }
   ],
   "source": [
    "#see the data we're dealing with\n",
    "df.head(3)"
   ]
  },
  {
   "cell_type": "code",
   "execution_count": 109,
   "id": "unknown-adoption",
   "metadata": {},
   "outputs": [
    {
     "data": {
      "text/plain": [
       "_ID          22025\n",
       " TimeSt      22025\n",
       "Country      22025\n",
       "Province     22025\n",
       "City         22025\n",
       "Latitude     22025\n",
       "Longitude    22025\n",
       "dtype: int64"
      ]
     },
     "execution_count": 109,
     "metadata": {},
     "output_type": "execute_result"
    }
   ],
   "source": [
    "#see how many rows before sorting the data (so we know it works)\n",
    "df.count()"
   ]
  },
  {
   "cell_type": "markdown",
   "id": "cardiac-cliff",
   "metadata": {},
   "source": [
    "# 1. Cleanup"
   ]
  },
  {
   "cell_type": "code",
   "execution_count": 207,
   "id": "international-vatican",
   "metadata": {
    "scrolled": true
   },
   "outputs": [],
   "source": [
    "#change some of the column headings to be more user friendly\n",
    "df = data_sample.rename(columns ={'_ID':'ID',' TimeSt':'TimeSt'})"
   ]
  },
  {
   "cell_type": "code",
   "execution_count": 209,
   "id": "polish-restaurant",
   "metadata": {},
   "outputs": [],
   "source": [
    "#remove records with duplicate time stamps and geoinfo, not keeping the initial record\n",
    "df.drop_duplicates(subset=[\"TimeSt\",\"Latitude\", \"Longitude\"], keep = False, inplace =True)"
   ]
  },
  {
   "cell_type": "code",
   "execution_count": 130,
   "id": "exciting-brisbane",
   "metadata": {},
   "outputs": [
    {
     "data": {
      "text/plain": [
       "ID           17973\n",
       "TimeSt       17973\n",
       "Country      17973\n",
       "Province     17973\n",
       "City         17973\n",
       "Latitude     17973\n",
       "Longitude    17973\n",
       "dtype: int64"
      ]
     },
     "execution_count": 130,
     "metadata": {},
     "output_type": "execute_result"
    }
   ],
   "source": [
    "df.count()\n",
    "#Now we can see 4052 suspicious logs were removed"
   ]
  },
  {
   "cell_type": "code",
   "execution_count": 184,
   "id": "digital-ancient",
   "metadata": {},
   "outputs": [
    {
     "data": {
      "text/html": [
       "<div>\n",
       "<style scoped>\n",
       "    .dataframe tbody tr th:only-of-type {\n",
       "        vertical-align: middle;\n",
       "    }\n",
       "\n",
       "    .dataframe tbody tr th {\n",
       "        vertical-align: top;\n",
       "    }\n",
       "\n",
       "    .dataframe thead th {\n",
       "        text-align: right;\n",
       "    }\n",
       "</style>\n",
       "<table border=\"1\" class=\"dataframe\">\n",
       "  <thead>\n",
       "    <tr style=\"text-align: right;\">\n",
       "      <th></th>\n",
       "      <th>POIID</th>\n",
       "      <th>Latitude</th>\n",
       "      <th>Longitude</th>\n",
       "    </tr>\n",
       "  </thead>\n",
       "  <tbody>\n",
       "    <tr>\n",
       "      <th>0</th>\n",
       "      <td>POI1</td>\n",
       "      <td>53.546167</td>\n",
       "      <td>-113.485734</td>\n",
       "    </tr>\n",
       "    <tr>\n",
       "      <th>1</th>\n",
       "      <td>POI2</td>\n",
       "      <td>53.546167</td>\n",
       "      <td>-113.485734</td>\n",
       "    </tr>\n",
       "    <tr>\n",
       "      <th>2</th>\n",
       "      <td>POI3</td>\n",
       "      <td>45.521629</td>\n",
       "      <td>-73.566024</td>\n",
       "    </tr>\n",
       "    <tr>\n",
       "      <th>3</th>\n",
       "      <td>POI4</td>\n",
       "      <td>45.224830</td>\n",
       "      <td>-63.232729</td>\n",
       "    </tr>\n",
       "  </tbody>\n",
       "</table>\n",
       "</div>"
      ],
      "text/plain": [
       "  POIID   Latitude   Longitude\n",
       "0  POI1  53.546167 -113.485734\n",
       "1  POI2  53.546167 -113.485734\n",
       "2  POI3  45.521629  -73.566024\n",
       "3  POI4  45.224830  -63.232729"
      ]
     },
     "execution_count": 184,
     "metadata": {},
     "output_type": "execute_result"
    }
   ],
   "source": [
    "poi = pd.read_csv(\"data/POIList.csv\")\n",
    "df = data_sample.rename(columns ={' Latitude':'Latitude'})\n",
    "poi.head()"
   ]
  },
  {
   "cell_type": "code",
   "execution_count": 232,
   "id": "compact-lloyd",
   "metadata": {},
   "outputs": [],
   "source": [
    "poi = poi.values.tolist()"
   ]
  },
  {
   "cell_type": "markdown",
   "id": "ethical-valentine",
   "metadata": {},
   "source": [
    "# 2. Labels\n",
    "\n",
    "### To solve this problem, I have broken it down into 3 steps:\n",
    "\n",
    " 1. Find euclidean distance of requests from POI\n",
    " 2. Get nearest POI\n",
    " 3. Store the labels in order then append the list as a column to the DataFrame\n",
    "    "
   ]
  },
  {
   "cell_type": "code",
   "execution_count": 244,
   "id": "cellular-context",
   "metadata": {},
   "outputs": [
    {
     "data": {
      "text/plain": [
       "5"
      ]
     },
     "execution_count": 244,
     "metadata": {},
     "output_type": "execute_result"
    }
   ],
   "source": [
    "#create a copy of the data samples dataframe but only with latitude and longitude columns, repeat for poi\n",
    "cdf = df[[\"Latitude\",\"Longitude\"]]\n",
    "#convert the copy into a list\n",
    "cdf = cdf.values.tolist()\n",
    "\n",
    "lst = [3,1,3,6]\n",
    "al = [1,[5,34],3,4]\n",
    "al[lst.index(min(lst))][0]"
   ]
  },
  {
   "cell_type": "code",
   "execution_count": 250,
   "id": "explicit-joining",
   "metadata": {},
   "outputs": [],
   "source": [
    "\n",
    "labels = []\n",
    "for i in cdf:\n",
    "    closest = []\n",
    "    for x in poi:\n",
    "        closest.append(math.dist(i, [x[1],x[2]]))\n",
    "    #append the label of the POI to the labels list\n",
    "    labels.append(poi[closest.index(min(closest))][0])\n",
    "    \n",
    "    \n",
    "    "
   ]
  },
  {
   "cell_type": "code",
   "execution_count": 266,
   "id": "satisfactory-bahrain",
   "metadata": {},
   "outputs": [
    {
     "data": {
      "text/html": [
       "<div>\n",
       "<style scoped>\n",
       "    .dataframe tbody tr th:only-of-type {\n",
       "        vertical-align: middle;\n",
       "    }\n",
       "\n",
       "    .dataframe tbody tr th {\n",
       "        vertical-align: top;\n",
       "    }\n",
       "\n",
       "    .dataframe thead th {\n",
       "        text-align: right;\n",
       "    }\n",
       "</style>\n",
       "<table border=\"1\" class=\"dataframe\">\n",
       "  <thead>\n",
       "    <tr style=\"text-align: right;\">\n",
       "      <th></th>\n",
       "      <th>ID</th>\n",
       "      <th>TimeSt</th>\n",
       "      <th>Country</th>\n",
       "      <th>Province</th>\n",
       "      <th>City</th>\n",
       "      <th>Latitude</th>\n",
       "      <th>Longitude</th>\n",
       "      <th>Label</th>\n",
       "    </tr>\n",
       "  </thead>\n",
       "  <tbody>\n",
       "    <tr>\n",
       "      <th>0</th>\n",
       "      <td>4516516</td>\n",
       "      <td>2017-06-21 00:00:00.143</td>\n",
       "      <td>CA</td>\n",
       "      <td>ON</td>\n",
       "      <td>Waterloo</td>\n",
       "      <td>43.49347</td>\n",
       "      <td>-80.49123</td>\n",
       "      <td>POI3</td>\n",
       "    </tr>\n",
       "    <tr>\n",
       "      <th>1</th>\n",
       "      <td>4516547</td>\n",
       "      <td>2017-06-21 18:00:00.193</td>\n",
       "      <td>CA</td>\n",
       "      <td>ON</td>\n",
       "      <td>London</td>\n",
       "      <td>42.93990</td>\n",
       "      <td>-81.27090</td>\n",
       "      <td>POI3</td>\n",
       "    </tr>\n",
       "    <tr>\n",
       "      <th>2</th>\n",
       "      <td>4516550</td>\n",
       "      <td>2017-06-21 15:00:00.287</td>\n",
       "      <td>CA</td>\n",
       "      <td>ON</td>\n",
       "      <td>Guelph</td>\n",
       "      <td>43.57760</td>\n",
       "      <td>-80.22010</td>\n",
       "      <td>POI3</td>\n",
       "    </tr>\n",
       "    <tr>\n",
       "      <th>3</th>\n",
       "      <td>4516600</td>\n",
       "      <td>2017-06-21 15:00:00.307</td>\n",
       "      <td>CA</td>\n",
       "      <td>ON</td>\n",
       "      <td>Stratford</td>\n",
       "      <td>43.37160</td>\n",
       "      <td>-80.97730</td>\n",
       "      <td>POI3</td>\n",
       "    </tr>\n",
       "    <tr>\n",
       "      <th>4</th>\n",
       "      <td>4516613</td>\n",
       "      <td>2017-06-21 15:00:00.497</td>\n",
       "      <td>CA</td>\n",
       "      <td>ON</td>\n",
       "      <td>Stratford</td>\n",
       "      <td>43.37160</td>\n",
       "      <td>-80.97730</td>\n",
       "      <td>POI3</td>\n",
       "    </tr>\n",
       "    <tr>\n",
       "      <th>...</th>\n",
       "      <td>...</td>\n",
       "      <td>...</td>\n",
       "      <td>...</td>\n",
       "      <td>...</td>\n",
       "      <td>...</td>\n",
       "      <td>...</td>\n",
       "      <td>...</td>\n",
       "      <td>...</td>\n",
       "    </tr>\n",
       "    <tr>\n",
       "      <th>3060</th>\n",
       "      <td>4669263</td>\n",
       "      <td>2017-06-21 07:08:52.243</td>\n",
       "      <td>CA</td>\n",
       "      <td>ON</td>\n",
       "      <td>Wasaga Beach</td>\n",
       "      <td>44.52750</td>\n",
       "      <td>-80.00290</td>\n",
       "      <td>POI3</td>\n",
       "    </tr>\n",
       "    <tr>\n",
       "      <th>3061</th>\n",
       "      <td>4669285</td>\n",
       "      <td>2017-06-21 03:08:51.560</td>\n",
       "      <td>CA</td>\n",
       "      <td>ON</td>\n",
       "      <td>Brampton</td>\n",
       "      <td>43.69710</td>\n",
       "      <td>-79.79440</td>\n",
       "      <td>POI3</td>\n",
       "    </tr>\n",
       "    <tr>\n",
       "      <th>3062</th>\n",
       "      <td>4669293</td>\n",
       "      <td>2017-06-21 02:08:51.590</td>\n",
       "      <td>CA</td>\n",
       "      <td>NS</td>\n",
       "      <td>Sydney</td>\n",
       "      <td>46.16124</td>\n",
       "      <td>-60.17942</td>\n",
       "      <td>POI4</td>\n",
       "    </tr>\n",
       "    <tr>\n",
       "      <th>3063</th>\n",
       "      <td>4669321</td>\n",
       "      <td>2017-06-21 07:08:55.480</td>\n",
       "      <td>CA</td>\n",
       "      <td>ON</td>\n",
       "      <td>Kingston</td>\n",
       "      <td>44.26470</td>\n",
       "      <td>-76.55040</td>\n",
       "      <td>POI3</td>\n",
       "    </tr>\n",
       "    <tr>\n",
       "      <th>3064</th>\n",
       "      <td>4669329</td>\n",
       "      <td>2017-06-21 08:08:51.620</td>\n",
       "      <td>CA</td>\n",
       "      <td>QC</td>\n",
       "      <td>Fossambault-Sur-Le-Lac</td>\n",
       "      <td>46.90353</td>\n",
       "      <td>-71.62098</td>\n",
       "      <td>POI3</td>\n",
       "    </tr>\n",
       "  </tbody>\n",
       "</table>\n",
       "<p>2567 rows × 8 columns</p>\n",
       "</div>"
      ],
      "text/plain": [
       "           ID                   TimeSt Country Province  \\\n",
       "0     4516516  2017-06-21 00:00:00.143      CA       ON   \n",
       "1     4516547  2017-06-21 18:00:00.193      CA       ON   \n",
       "2     4516550  2017-06-21 15:00:00.287      CA       ON   \n",
       "3     4516600  2017-06-21 15:00:00.307      CA       ON   \n",
       "4     4516613  2017-06-21 15:00:00.497      CA       ON   \n",
       "...       ...                      ...     ...      ...   \n",
       "3060  4669263  2017-06-21 07:08:52.243      CA       ON   \n",
       "3061  4669285  2017-06-21 03:08:51.560      CA       ON   \n",
       "3062  4669293  2017-06-21 02:08:51.590      CA       NS   \n",
       "3063  4669321  2017-06-21 07:08:55.480      CA       ON   \n",
       "3064  4669329  2017-06-21 08:08:51.620      CA       QC   \n",
       "\n",
       "                        City  Latitude  Longitude Label  \n",
       "0                   Waterloo  43.49347  -80.49123  POI3  \n",
       "1                     London  42.93990  -81.27090  POI3  \n",
       "2                     Guelph  43.57760  -80.22010  POI3  \n",
       "3                  Stratford  43.37160  -80.97730  POI3  \n",
       "4                  Stratford  43.37160  -80.97730  POI3  \n",
       "...                      ...       ...        ...   ...  \n",
       "3060            Wasaga Beach  44.52750  -80.00290  POI3  \n",
       "3061                Brampton  43.69710  -79.79440  POI3  \n",
       "3062                  Sydney  46.16124  -60.17942  POI4  \n",
       "3063                Kingston  44.26470  -76.55040  POI3  \n",
       "3064  Fossambault-Sur-Le-Lac  46.90353  -71.62098  POI3  \n",
       "\n",
       "[2567 rows x 8 columns]"
      ]
     },
     "execution_count": 266,
     "metadata": {},
     "output_type": "execute_result"
    }
   ],
   "source": [
    "label = pd.Series(labels)\n",
    "df['Label'] = label.values\n",
    "df.head(2567)\n",
    "#Labels seems to be working well"
   ]
  },
  {
   "cell_type": "markdown",
   "id": "silver-clearance",
   "metadata": {},
   "source": [
    "# 3. Analysis\n",
    "\n",
    "    This problem will heavily depend on external libraries and functions"
   ]
  },
  {
   "cell_type": "code",
   "execution_count": 274,
   "id": "hungarian-manor",
   "metadata": {},
   "outputs": [
    {
     "name": "stdout",
     "output_type": "stream",
     "text": [
      "Installed kernelspec python3 in C:\\Users\\tobio\\AppData\\Roaming\\jupyter\\kernels\\python3\n"
     ]
    }
   ],
   "source": [
    "!python3 -m ipykernel install --user"
   ]
  }
 ],
 "metadata": {
  "kernelspec": {
   "display_name": "Python 3",
   "language": "python",
   "name": "python3"
  },
  "language_info": {
   "codemirror_mode": {
    "name": "ipython",
    "version": 3
   },
   "file_extension": ".py",
   "mimetype": "text/x-python",
   "name": "python",
   "nbconvert_exporter": "python",
   "pygments_lexer": "ipython3",
   "version": "3.8.6"
  }
 },
 "nbformat": 4,
 "nbformat_minor": 5
}
